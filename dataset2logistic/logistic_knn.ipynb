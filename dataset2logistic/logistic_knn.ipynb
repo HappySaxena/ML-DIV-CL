{
 "cells": [
  {
   "cell_type": "code",
   "execution_count": 1,
   "metadata": {},
   "outputs": [],
   "source": [
    "import numpy as np\n",
    "import pandas as pd\n",
    "import matplotlib.pyplot as plt"
   ]
  },
  {
   "cell_type": "code",
   "execution_count": 3,
   "metadata": {},
   "outputs": [
    {
     "name": "stdout",
     "output_type": "stream",
     "text": [
      "   1-ID  Feature_1   Feature_2   Feature_3   Feature_4   Feature_5  \\\n",
      "0     1 -36.963099  -15.014703   87.100435  101.523360   82.106571   \n",
      "1     2 -43.715674   18.847116   89.543406  -71.319314   35.597052   \n",
      "2     3 -30.737550  -63.729643  106.081332   81.773948  112.769976   \n",
      "3     4 -27.674757 -118.869495  135.605213   99.130189   50.947548   \n",
      "4     5 -28.654141  -77.746597   85.215365   50.374774   79.763207   \n",
      "\n",
      "    Feature_6  Feature_7  Feature_8   Feature_9  ...  Feature_12  Feature_13  \\\n",
      "0  -10.956180   0.592326 -51.919028  -90.650434  ...  -81.183744   13.101921   \n",
      "1  126.358570 -29.837495 -40.473764  -94.079238  ...  -37.848260    7.457352   \n",
      "2  -12.425351 -29.913286 -41.771200   16.424511  ... -106.610289    5.930143   \n",
      "3  -63.704785  -7.353057 -58.140229  -80.209027  ... -149.056417    3.893419   \n",
      "4  -32.703048 -28.152031 -63.994794 -153.566789  ... -102.731465   11.160205   \n",
      "\n",
      "   Feature_14  Feature_15  Feature_16  Feature_17  Feature_18  Feature_19  \\\n",
      "0   18.051450  -40.606288  -39.697053  -13.870802  173.722987  -17.349169   \n",
      "1  -77.420742   53.773718 -100.124294    9.870650   11.592519 -106.123605   \n",
      "2  -30.177083 -138.969234  -56.054914  -12.790661  164.832498  -37.412902   \n",
      "3  -74.100869  -47.659832  -48.209817  -36.264323   59.001922  -59.064134   \n",
      "4  -13.395073    9.416237    2.649524  -43.578704   52.261888  -66.081738   \n",
      "\n",
      "   Feature_20  Class  \n",
      "0  -82.550844      0  \n",
      "1  -92.796421      1  \n",
      "2  -85.441150      0  \n",
      "3  -78.538639      0  \n",
      "4  -80.325110      0  \n",
      "\n",
      "[5 rows x 22 columns]\n"
     ]
    }
   ],
   "source": [
    "data = pd.read_csv('binary_classification_train.csv')\n",
    "\n",
    "print(data.head())\n"
   ]
  },
  {
   "cell_type": "code",
   "execution_count": null,
   "metadata": {},
   "outputs": [
    {
     "name": "stdout",
     "output_type": "stream",
     "text": [
      "   Feature_1  Feature_2  Feature_3  Feature_4  Feature_5  Feature_6  \\\n",
      "0  -0.908181   1.579658  -0.117235   1.434109  -0.193738  -0.727348   \n",
      "1  -2.350113   2.322732  -0.054594  -0.233848  -1.902018   0.636067   \n",
      "2   0.421210   0.510641   0.369459   1.243524   0.932519  -0.741935   \n",
      "3   1.075233  -0.699365   1.126488   1.411014  -1.338199  -1.251095   \n",
      "4   0.866097   0.203049  -0.165571   0.940518  -0.279809  -0.943275   \n",
      "\n",
      "   Feature_7  Feature_8  Feature_9  Feature_10  Feature_11  Feature_12  \\\n",
      "0   1.075587  -1.250042   0.781382    0.858231   -2.089579   -0.428789   \n",
      "1  -0.610987  -0.094484   0.720290   -0.643393    0.352545    0.531547   \n",
      "2  -0.615188  -0.225478   2.689185   -2.067498   -1.189093   -0.992254   \n",
      "3   0.635214  -1.878159   0.967422    1.282044   -0.332541   -1.932881   \n",
      "4  -0.517571  -2.469258  -0.339627    0.461455   -0.697679   -0.906297   \n",
      "\n",
      "   Feature_13  Feature_14  Feature_15  Feature_16  Feature_17  Feature_18  \\\n",
      "0    0.601514    0.728394   -1.207400   -0.274070    0.458265    0.863606   \n",
      "1   -0.420103   -0.169612   -0.585139   -1.442399    0.961994   -1.399496   \n",
      "2   -0.696514    0.274759   -1.855921   -0.590341    0.481183    0.739508   \n",
      "3   -1.065143   -0.138386   -1.253905   -0.438660   -0.016864   -0.737731   \n",
      "4    0.250081    0.432610   -0.877594    0.544679   -0.172055   -0.831812   \n",
      "\n",
      "   Feature_19  Feature_20  \n",
      "0    1.213073    0.260865  \n",
      "1   -1.704577   -2.022425  \n",
      "2    0.553661   -0.383258  \n",
      "3   -0.157926    1.155009  \n",
      "4   -0.388566    0.756883  \n",
      "0        0\n",
      "1        1\n",
      "2        0\n",
      "3        0\n",
      "4        0\n",
      "        ..\n",
      "47995    0\n",
      "47996    1\n",
      "47997    0\n",
      "47998    0\n",
      "47999    1\n",
      "Name: Class, Length: 48000, dtype: int64\n",
      "Class\n",
      "0    0.681583\n",
      "1    0.318417\n",
      "Name: proportion, dtype: float64\n"
     ]
    }
   ],
   "source": [
    "\n",
    "x = data.iloc[:,1:21]\n",
    "x = (x-x.mean())/(x.std())\n",
    "print(x.head())\n",
    "y = data.iloc[0:,21]\n",
    "print(y)\n",
    "\n",
    "\n",
    "\n",
    "class_counts = pd.Series(y).value_counts(normalize = True)  \n",
    "print(class_counts)  "
   ]
  },
  {
   "cell_type": "code",
   "execution_count": 5,
   "metadata": {},
   "outputs": [
    {
     "name": "stdout",
     "output_type": "stream",
     "text": [
      "(48000, 20)\n",
      "(4800, 20)\n",
      "(4800,)\n",
      "Training set has 43200 samples.\n"
     ]
    }
   ],
   "source": [
    "x_train = x.values\n",
    "print(x.shape)\n",
    "y_train = y.values\n",
    "m = x_train.shape[0]\n",
    "n = int(0.1*m)\n",
    "x_test = x_train[0:n,:]\n",
    "print(x_test.shape)\n",
    "x_train = x_train[n:,:]\n",
    "y_test = y_train[0:n]\n",
    "print(y_test.shape)       \n",
    "y_train = y_train[n:]\n",
    "print(\"Training set has {} samples.\".format(x_train.shape[0]))"
   ]
  },
  {
   "cell_type": "code",
   "execution_count": 6,
   "metadata": {},
   "outputs": [],
   "source": [
    "\n",
    "class KNN:\n",
    "   def __init__(self,k):\n",
    "    self.k = k\n",
    "   def fit(self,x,y):\n",
    "    self.x = x\n",
    "    self.y = y\n",
    "   def dist(self,x1,x2):\n",
    "    return np.sqrt(np.sum((x1-x2)**2))\n",
    "   def predict(self,X): \n",
    "    prediction = []\n",
    "    i = 0\n",
    "    for x in X:\n",
    "        distance = [self.dist(x,x_train) for x_train in self.x]\n",
    "        k_indices = np.argsort(distance)[:self.k]\n",
    "        knearest =  [self.y[i] for i in(k_indices)]\n",
    "        i = i+ 1\n",
    "        print(i)\n",
    "        \n",
    "        counts = {}\n",
    "        for num in (knearest):\n",
    "          counts[num] = counts.get(num,0) + 1\n",
    "        max_freq = max(counts, key=counts.get)\n",
    "        prediction.append(max_freq)\n",
    " \n",
    "        \n",
    "    return np.array(prediction)       "
   ]
  },
  {
   "cell_type": "code",
   "execution_count": null,
   "metadata": {},
   "outputs": [],
   "source": [
    "k = 13\n",
    "knn = KNN(k)\n",
    "knn.fit(x_train, y_train)\n",
    "\n",
    "# Predict\n",
    "y_pred = knn.predict(x_test)\n",
    "print(\"Predictions:\", y_pred)  \n",
    "print(y_test)\n",
    "\n"
   ]
  },
  {
   "cell_type": "code",
   "execution_count": 62,
   "metadata": {},
   "outputs": [
    {
     "name": "stdout",
     "output_type": "stream",
     "text": [
      "(4800,)\n",
      "accuracy On cross validation set :  93.77083333333334\n",
      "0.9488677867056245\n",
      "0.850130890052356\n",
      "0.8967897825336555\n"
     ]
    }
   ],
   "source": [
    "print(y_pred.shape)\n",
    "accuracy = np.mean(y_test == y_pred)\n",
    "print(\"accuracy On cross validation set : \",accuracy * 100)\n",
    "p = np.sum((y_test == 1) & (y_pred== 1))/(np.sum((y_test == 1) & (y_pred == 1)) + np.sum((y_test == 0) & (y_pred == 1)))  # precision\n",
    "r = np.sum((y_test == 1) & (y_pred == 1))/(np.sum((y_test == 1) & (y_pred == 1)) + np.sum((y_test == 1) & (y_pred == 0)))  # recall \n",
    "\n",
    "\n",
    "\n",
    "print(p)\n",
    "print(r)\n",
    "\n",
    "f1_score = 2*(p * r)/(p + r)  # f1_score \n",
    "print(f1_score)\n",
    "\n"
   ]
  },
  {
   "cell_type": "code",
   "execution_count": null,
   "metadata": {},
   "outputs": [],
   "source": [
    "data_test = pd.read_csv('binary_classification_test.csv')\n",
    "x_t = data_test.iloc[:,1:]\n",
    "\n",
    "x_t = (x_t - x_t.mean())/(x_t.std())\n",
    "xt_test = x_t.values\n",
    "print(xt_test.shape)\n",
    "k = 13\n",
    "knn = KNN(k)\n",
    "knn.fit(x_train, y_train)\n",
    "\n",
    "# Predict\n",
    "y_pred = knn.predict(xt_test)\n",
    "print(\"Predictions:\", y_pred)  \n"
   ]
  },
  {
   "cell_type": "code",
   "execution_count": null,
   "metadata": {},
   "outputs": [],
   "source": []
  }
 ],
 "metadata": {
  "kernelspec": {
   "display_name": "Python 3",
   "language": "python",
   "name": "python3"
  },
  "language_info": {
   "codemirror_mode": {
    "name": "ipython",
    "version": 3
   },
   "file_extension": ".py",
   "mimetype": "text/x-python",
   "name": "python",
   "nbconvert_exporter": "python",
   "pygments_lexer": "ipython3",
   "version": "3.12.3"
  }
 },
 "nbformat": 4,
 "nbformat_minor": 2
}
