{
 "cells": [
  {
   "cell_type": "markdown",
   "id": "334ed6f2",
   "metadata": {},
   "source": [
    "Importing useful libraries"
   ]
  },
  {
   "cell_type": "code",
   "execution_count": 1,
   "id": "45c511ca",
   "metadata": {},
   "outputs": [],
   "source": [
    "import numpy as np\n",
    "import pandas as pd\n",
    "import matplotlib.pyplot as plt\n"
   ]
  },
  {
   "cell_type": "markdown",
   "id": "9a2466c8",
   "metadata": {},
   "source": [
    "loading training and testing data..."
   ]
  },
  {
   "cell_type": "code",
   "execution_count": 2,
   "id": "7f3fd87c",
   "metadata": {},
   "outputs": [
    {
     "name": "stdout",
     "output_type": "stream",
     "text": [
      "   1-ID  Feature_1   Feature_2   Feature_3   Feature_4   Feature_5  \\\n",
      "0     1 -36.963099  -15.014703   87.100435  101.523360   82.106571   \n",
      "1     2 -43.715674   18.847116   89.543406  -71.319314   35.597052   \n",
      "2     3 -30.737550  -63.729643  106.081332   81.773948  112.769976   \n",
      "3     4 -27.674757 -118.869495  135.605213   99.130189   50.947548   \n",
      "4     5 -28.654141  -77.746597   85.215365   50.374774   79.763207   \n",
      "\n",
      "    Feature_6  Feature_7  Feature_8   Feature_9  ...  Feature_12  Feature_13  \\\n",
      "0  -10.956180   0.592326 -51.919028  -90.650434  ...  -81.183744   13.101921   \n",
      "1  126.358570 -29.837495 -40.473764  -94.079238  ...  -37.848260    7.457352   \n",
      "2  -12.425351 -29.913286 -41.771200   16.424511  ... -106.610289    5.930143   \n",
      "3  -63.704785  -7.353057 -58.140229  -80.209027  ... -149.056417    3.893419   \n",
      "4  -32.703048 -28.152031 -63.994794 -153.566789  ... -102.731465   11.160205   \n",
      "\n",
      "   Feature_14  Feature_15  Feature_16  Feature_17  Feature_18  Feature_19  \\\n",
      "0   18.051450  -40.606288  -39.697053  -13.870802  173.722987  -17.349169   \n",
      "1  -77.420742   53.773718 -100.124294    9.870650   11.592519 -106.123605   \n",
      "2  -30.177083 -138.969234  -56.054914  -12.790661  164.832498  -37.412902   \n",
      "3  -74.100869  -47.659832  -48.209817  -36.264323   59.001922  -59.064134   \n",
      "4  -13.395073    9.416237    2.649524  -43.578704   52.261888  -66.081738   \n",
      "\n",
      "   Feature_20  Class  \n",
      "0  -82.550844      0  \n",
      "1  -92.796421      1  \n",
      "2  -85.441150      0  \n",
      "3  -78.538639      0  \n",
      "4  -80.325110      0  \n",
      "\n",
      "[5 rows x 22 columns]\n"
     ]
    }
   ],
   "source": [
    "data = pd.read_csv('binary_classification_train.csv')\n",
    "data_test = pd.read_csv('binary_classification_test.csv')\n",
    "print(data.head())\n"
   ]
  },
  {
   "cell_type": "markdown",
   "id": "fbfd3d51",
   "metadata": {},
   "source": [
    "Extracting data and normalising i"
   ]
  },
  {
   "cell_type": "code",
   "execution_count": null,
   "id": "a9e5e678",
   "metadata": {},
   "outputs": [
    {
     "name": "stdout",
     "output_type": "stream",
     "text": [
      "   Feature_1  Feature_2  Feature_3  Feature_4  Feature_5  Feature_6  \\\n",
      "0  -0.908181   1.579658  -0.117235   1.434109  -0.193738  -0.727348   \n",
      "1  -2.350113   2.322732  -0.054594  -0.233848  -1.902018   0.636067   \n",
      "2   0.421210   0.510641   0.369459   1.243524   0.932519  -0.741935   \n",
      "3   1.075233  -0.699365   1.126488   1.411014  -1.338199  -1.251095   \n",
      "4   0.866097   0.203049  -0.165571   0.940518  -0.279809  -0.943275   \n",
      "\n",
      "   Feature_7  Feature_8  Feature_9  Feature_10  Feature_11  Feature_12  \\\n",
      "0   1.075587  -1.250042   0.781382    0.858231   -2.089579   -0.428789   \n",
      "1  -0.610987  -0.094484   0.720290   -0.643393    0.352545    0.531547   \n",
      "2  -0.615188  -0.225478   2.689185   -2.067498   -1.189093   -0.992254   \n",
      "3   0.635214  -1.878159   0.967422    1.282044   -0.332541   -1.932881   \n",
      "4  -0.517571  -2.469258  -0.339627    0.461455   -0.697679   -0.906297   \n",
      "\n",
      "   Feature_13  Feature_14  Feature_15  Feature_16  Feature_17  Feature_18  \\\n",
      "0    0.601514    0.728394   -1.207400   -0.274070    0.458265    0.863606   \n",
      "1   -0.420103   -0.169612   -0.585139   -1.442399    0.961994   -1.399496   \n",
      "2   -0.696514    0.274759   -1.855921   -0.590341    0.481183    0.739508   \n",
      "3   -1.065143   -0.138386   -1.253905   -0.438660   -0.016864   -0.737731   \n",
      "4    0.250081    0.432610   -0.877594    0.544679   -0.172055   -0.831812   \n",
      "\n",
      "   Feature_19  Feature_20  \n",
      "0    1.213073    0.260865  \n",
      "1   -1.704577   -2.022425  \n",
      "2    0.553661   -0.383258  \n",
      "3   -0.157926    1.155009  \n",
      "4   -0.388566    0.756883  \n",
      "0        0\n",
      "1        1\n",
      "2        0\n",
      "3        0\n",
      "4        0\n",
      "        ..\n",
      "47995    0\n",
      "47996    1\n",
      "47997    0\n",
      "47998    0\n",
      "47999    1\n",
      "Name: Class, Length: 48000, dtype: int64\n",
      "Class\n",
      "0    0.681583\n",
      "1    0.318417\n",
      "Name: proportion, dtype: float64\n"
     ]
    }
   ],
   "source": [
    "\n",
    "x = data.iloc[:,1:21]\n",
    "x = (x-x.mean())/(x.std())\n",
    "print(x.head())\n",
    "y = data.iloc[0:,21]\n",
    "print(y)\n",
    "\n",
    "\n",
    "\n",
    "class_counts = pd.Series(y).value_counts(normalize = True) \n",
    "print(class_counts)  \n",
    "\n"
   ]
  },
  {
   "cell_type": "markdown",
   "id": "2649933c",
   "metadata": {},
   "source": [
    "Spilliting for cross validation"
   ]
  },
  {
   "cell_type": "code",
   "execution_count": 4,
   "id": "b8f72e72",
   "metadata": {},
   "outputs": [
    {
     "name": "stdout",
     "output_type": "stream",
     "text": [
      "(48000, 20)\n",
      "Training set has 38400 samples.\n"
     ]
    }
   ],
   "source": [
    "x_train = x.values\n",
    "print(x.shape)\n",
    "y_train = y.values\n",
    "m = x_train.shape[0]\n",
    "n = int(0.2*m)\n",
    "x_test = x_train[0:n,:]\n",
    "x_train = x_train[n:,:]\n",
    "y_test = y_train[0:n]\n",
    "y_train = y_train[n:]\n",
    "print(\"Training set has {} samples.\".format(x_train.shape[0]))"
   ]
  },
  {
   "cell_type": "markdown",
   "id": "4a9201d1",
   "metadata": {},
   "source": [
    "Initializing weight and bias "
   ]
  },
  {
   "cell_type": "code",
   "execution_count": 5,
   "id": "2e8b66a5",
   "metadata": {},
   "outputs": [
    {
     "name": "stdout",
     "output_type": "stream",
     "text": [
      "(20,)\n"
     ]
    }
   ],
   "source": [
    "w_in = np.zeros(x_train.shape[1])\n",
    "b_in = 0\n",
    "print(w_in.shape)\n"
   ]
  },
  {
   "cell_type": "markdown",
   "id": "46a748de",
   "metadata": {},
   "source": [
    "Defining cost function "
   ]
  },
  {
   "cell_type": "code",
   "execution_count": 6,
   "id": "d0673f45",
   "metadata": {},
   "outputs": [],
   "source": [
    "def cost_function(x,y,w,b,lambdaa):\n",
    "    z = np.dot(x,w) + b\n",
    "    fb = 1/(1+ np.exp(-z))\n",
    "    cost = (1/m)*((np.sum(-y*np.log(fb) - (1-y)*np.log(1-fb))) + lambdaa*np.sum(np.square(w)))\n",
    "    return cost\n",
    "def predict(x,w,b):\n",
    "    z = np.dot(x,w) + b\n",
    "    f = 1/(1+np.exp(-z))\n",
    "    a = (f>0.5)\n",
    "    return (a.astype(int))"
   ]
  },
  {
   "cell_type": "markdown",
   "id": "f14eb428",
   "metadata": {},
   "source": [
    "gradient and gradient descent "
   ]
  },
  {
   "cell_type": "code",
   "execution_count": 7,
   "id": "351c43ed",
   "metadata": {},
   "outputs": [],
   "source": [
    "\n",
    "def gradient_descent(x,y,w_in,b_in,learning_rate,iteration,lambdaa):\n",
    "    J_history = []\n",
    "    Accuracy_history = []\n",
    "    W = []\n",
    "    w = np.copy(w_in)\n",
    "    b = b_in\n",
    "    m = x.shape[0]\n",
    "    n = len(w)\n",
    "    for i in range(iteration):\n",
    "        z = np.dot(x,w) + b\n",
    "        f_b  =  (1/(1 + np.exp(-z)))\n",
    "        dw = (1/m)*(np.dot(x.T,f_b-y) + (lambdaa)*np.sum(w))\n",
    "        db = (1/m)*(np.sum(f_b-y))\n",
    "        \n",
    "        w-= learning_rate * dw\n",
    "        b-= learning_rate * db\n",
    "        if i< iteration:\n",
    "            J_history.append(cost_function(x,y,w,b,lambdaa))\n",
    "            y_pred = predict(x,w,b)\n",
    "            acc = (np.mean(y_pred == y)*100)\n",
    "            Accuracy_history.append(acc)\n",
    "\n",
    "        if (i%(iteration/10) == 0):\n",
    "            W.append(w)\n",
    "            print(f\"Iteration {i:4}: Cost {float(J_history[-1]):8.2f}, accuracy : {acc}   \")\n",
    "        \n",
    "    return w, b, J_history, W   \n",
    "\n",
    "\n",
    "\n",
    "    \n"
   ]
  },
  {
   "cell_type": "markdown",
   "id": "e7d46390",
   "metadata": {},
   "source": [
    "Defining hyperparameters for the model and calling gradient descent"
   ]
  },
  {
   "cell_type": "code",
   "execution_count": 8,
   "id": "6f8cfe1d",
   "metadata": {},
   "outputs": [
    {
     "name": "stdout",
     "output_type": "stream",
     "text": [
      "Iteration    0: Cost     0.53, accuracy : 90.79166666666667   \n",
      "Iteration   50: Cost     0.25, accuracy : 92.88541666666667   \n",
      "Iteration  100: Cost     0.22, accuracy : 93.22135416666667   \n",
      "Iteration  150: Cost     0.21, accuracy : 93.3671875   \n",
      "Iteration  200: Cost     0.20, accuracy : 93.4296875   \n",
      "Iteration  250: Cost     0.20, accuracy : 93.453125   \n",
      "Iteration  300: Cost     0.20, accuracy : 93.4921875   \n",
      "Iteration  350: Cost     0.20, accuracy : 93.49739583333333   \n",
      "Iteration  400: Cost     0.20, accuracy : 93.52604166666667   \n",
      "Iteration  450: Cost     0.20, accuracy : 93.55208333333334   \n",
      "[ 1.52689254e-02 -2.57025596e-02  9.18580072e-04 -5.71645476e-01\n",
      "  1.55756741e-02  1.58067406e+00  2.23785651e-02  1.25358866e-02\n",
      "  3.04450085e-01  3.16830045e-02 -4.26282776e-02 -1.04848085e-02\n",
      " -2.28073819e-02  3.32116637e-01  6.58446691e-01 -4.97204726e-01\n",
      "  8.47422536e-01 -4.94140796e-01 -1.83274772e-01 -2.78799396e-02]\n",
      "-1.2427009617580915\n"
     ]
    }
   ],
   "source": [
    "learning_rate = 0.1\n",
    "iteration = 100\n",
    "lambdaa = 1\n",
    "wf,bf,J,W = gradient_descent(x_train,y_train,w_in,b_in,learning_rate = 0.1,iteration = 500,lambdaa = 0.001)\n",
    "print(wf)\n",
    "print(bf)\n",
    "\n"
   ]
  },
  {
   "cell_type": "markdown",
   "id": "6aa96c42",
   "metadata": {},
   "source": [
    "Plotting cost functions vs iteration"
   ]
  },
  {
   "cell_type": "code",
   "execution_count": 10,
   "id": "4a56678e",
   "metadata": {},
   "outputs": [
    {
     "data": {
      "image/png": "[encoded data removed]",
      "text/plain": [
       "<Figure size 640x480 with 1 Axes>"
      ]
     },
     "metadata": {},
     "output_type": "display_data"
    }
   ],
   "source": [
    "plt.plot(J)\n",
    "plt.xlabel('Iterations')\n",
    "plt.ylabel('Cost')\n",
    "plt.title('Cost Function Over Time')\n",
    "plt.show()"
   ]
  },
  {
   "cell_type": "markdown",
   "id": "f0564eda",
   "metadata": {},
   "source": [
    "calculating accuracy and f1_score"
   ]
  },
  {
   "cell_type": "code",
   "execution_count": 11,
   "id": "380e475f",
   "metadata": {},
   "outputs": [
    {
     "name": "stdout",
     "output_type": "stream",
     "text": [
      "[0 1 0 ... 0 1 0]\n",
      "accuracy On cross validation set :  93.14583333333334\n",
      "0.9229957805907173\n",
      "0.8567232375979112\n",
      "0.8886255924170616\n",
      "accuracy On training validation set :  93.54947916666667\n"
     ]
    }
   ],
   "source": [
    "\n",
    "     \n",
    "y = predict (x_test,wf,bf)\n",
    "print(y)    \n",
    "accuracy = np.mean(y_test == y)\n",
    "print(\"accuracy On cross validation set : \",accuracy * 100)\n",
    "p = np.sum((y_test == 1) & (y == 1))/(np.sum((y_test == 1) & (y == 1)) + np.sum((y_test == 0) & (y == 1)))  # precision\n",
    "r = np.sum((y_test == 1) & (y == 1))/(np.sum((y_test == 1) & (y == 1)) + np.sum((y_test == 1) & (y == 0)))  # recall \n",
    "\n",
    "\n",
    "\n",
    "print(p)\n",
    "print(r)\n",
    "\n",
    "y_t = predict(x_train,wf,bf)\n",
    "f1_score = 2*(p * r)/(p + r)  # f1_score \n",
    "print(f1_score)\n",
    "accuracy = np.mean(y_train == y_t)\n",
    "print(\"accuracy On training validation set : \",accuracy * 100)"
   ]
  },
  {
   "cell_type": "markdown",
   "id": "c88030b3",
   "metadata": {},
   "source": [
    "predicting for testing data "
   ]
  },
  {
   "cell_type": "code",
   "execution_count": 12,
   "id": "5c3e600c",
   "metadata": {},
   "outputs": [
    {
     "name": "stdout",
     "output_type": "stream",
     "text": [
      "(12000, 20)\n",
      "[0 0 0 ... 0 1 0]\n"
     ]
    }
   ],
   "source": [
    "x_t = data_test.iloc[:,1:]\n",
    "\n",
    "x_t = (x_t - x_t.mean())/(x_t.std())\n",
    "xt_test = x_t.values\n",
    "print(xt_test.shape)\n",
    "y = predict (xt_test,wf,bf)\n",
    "print(y)"
   ]
  },
  {
   "cell_type": "code",
   "execution_count": null,
   "id": "2196d9d1",
   "metadata": {},
   "outputs": [],
   "source": []
  }
 ],
 "metadata": {
  "kernelspec": {
   "display_name": "Python 3",
   "language": "python",
   "name": "python3"
  },
  "language_info": {
   "codemirror_mode": {
    "name": "ipython",
    "version": 3
   },
   "file_extension": ".py",
   "mimetype": "text/x-python",
   "name": "python",
   "nbconvert_exporter": "python",
   "pygments_lexer": "ipython3",
   "version": "3.12.3"
  }
 },
 "nbformat": 4,
 "nbformat_minor": 5
}
