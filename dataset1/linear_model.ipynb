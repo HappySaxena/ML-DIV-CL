{
 "cells": [
  {
   "cell_type": "markdown",
   "id": "ef7a74b0",
   "metadata": {},
   "source": [
    "IMPORTING USEFUL LIBRARIES:"
   ]
  },
  {
   "cell_type": "code",
   "execution_count": 2,
   "id": "39804818",
   "metadata": {},
   "outputs": [],
   "source": [
    "import numpy as np\n",
    "import pandas as pd \n",
    "import matplotlib.pyplot as plt\n"
   ]
  },
  {
   "cell_type": "markdown",
   "id": "af1b2f81",
   "metadata": {},
   "source": [
    "Reading training data from file  "
   ]
  },
  {
   "cell_type": "code",
   "execution_count": 3,
   "id": "446f8676",
   "metadata": {},
   "outputs": [
    {
     "data": {
      "text/html": [
       "<div>\n",
       "<style scoped>\n",
       "    .dataframe tbody tr th:only-of-type {\n",
       "        vertical-align: middle;\n",
       "    }\n",
       "\n",
       "    .dataframe tbody tr th {\n",
       "        vertical-align: top;\n",
       "    }\n",
       "\n",
       "    .dataframe thead th {\n",
       "        text-align: right;\n",
       "    }\n",
       "</style>\n",
       "<table border=\"1\" class=\"dataframe\">\n",
       "  <thead>\n",
       "    <tr style=\"text-align: right;\">\n",
       "      <th></th>\n",
       "      <th>ID</th>\n",
       "      <th>Feature_1</th>\n",
       "      <th>Feature_2</th>\n",
       "      <th>Feature_3</th>\n",
       "      <th>Feature_4</th>\n",
       "      <th>Feature_5</th>\n",
       "      <th>Feature_6</th>\n",
       "      <th>Feature_7</th>\n",
       "      <th>Feature_8</th>\n",
       "      <th>Feature_9</th>\n",
       "      <th>...</th>\n",
       "      <th>Feature_17</th>\n",
       "      <th>Feature_18</th>\n",
       "      <th>Feature_19</th>\n",
       "      <th>Feature_20</th>\n",
       "      <th>Feature_21</th>\n",
       "      <th>Feature_22</th>\n",
       "      <th>Feature_23</th>\n",
       "      <th>Feature_24</th>\n",
       "      <th>Feature_25</th>\n",
       "      <th>Target</th>\n",
       "    </tr>\n",
       "  </thead>\n",
       "  <tbody>\n",
       "    <tr>\n",
       "      <th>0</th>\n",
       "      <td>1</td>\n",
       "      <td>-10.429837</td>\n",
       "      <td>21.684251</td>\n",
       "      <td>93.056324</td>\n",
       "      <td>128.914740</td>\n",
       "      <td>1.657315</td>\n",
       "      <td>-34.602633</td>\n",
       "      <td>-70.314374</td>\n",
       "      <td>-89.585318</td>\n",
       "      <td>-98.465642</td>\n",
       "      <td>...</td>\n",
       "      <td>-99.322780</td>\n",
       "      <td>19.560135</td>\n",
       "      <td>25.568291</td>\n",
       "      <td>-40.876179</td>\n",
       "      <td>-116.146068</td>\n",
       "      <td>-82.181299</td>\n",
       "      <td>-99.423518</td>\n",
       "      <td>-41.150654</td>\n",
       "      <td>113.117197</td>\n",
       "      <td>5235.690928</td>\n",
       "    </tr>\n",
       "    <tr>\n",
       "      <th>1</th>\n",
       "      <td>2</td>\n",
       "      <td>12.475081</td>\n",
       "      <td>11.652011</td>\n",
       "      <td>-47.621889</td>\n",
       "      <td>-21.892583</td>\n",
       "      <td>-25.844861</td>\n",
       "      <td>-46.951253</td>\n",
       "      <td>-114.500805</td>\n",
       "      <td>-96.257473</td>\n",
       "      <td>-138.354981</td>\n",
       "      <td>...</td>\n",
       "      <td>-89.763107</td>\n",
       "      <td>-8.250307</td>\n",
       "      <td>-8.798353</td>\n",
       "      <td>-23.452091</td>\n",
       "      <td>-56.769063</td>\n",
       "      <td>-26.722372</td>\n",
       "      <td>-97.694304</td>\n",
       "      <td>13.816113</td>\n",
       "      <td>8.711894</td>\n",
       "      <td>-1221.442146</td>\n",
       "    </tr>\n",
       "    <tr>\n",
       "      <th>2</th>\n",
       "      <td>3</td>\n",
       "      <td>7.696188</td>\n",
       "      <td>24.729547</td>\n",
       "      <td>43.782383</td>\n",
       "      <td>-53.282523</td>\n",
       "      <td>-69.145794</td>\n",
       "      <td>-57.072335</td>\n",
       "      <td>-114.149171</td>\n",
       "      <td>-105.408739</td>\n",
       "      <td>-71.892560</td>\n",
       "      <td>...</td>\n",
       "      <td>-3.859655</td>\n",
       "      <td>-17.301240</td>\n",
       "      <td>-1.622924</td>\n",
       "      <td>-39.351214</td>\n",
       "      <td>-73.973949</td>\n",
       "      <td>-33.844638</td>\n",
       "      <td>-100.874861</td>\n",
       "      <td>-38.895598</td>\n",
       "      <td>34.488334</td>\n",
       "      <td>-1102.758862</td>\n",
       "    </tr>\n",
       "    <tr>\n",
       "      <th>3</th>\n",
       "      <td>4</td>\n",
       "      <td>6.505033</td>\n",
       "      <td>22.092605</td>\n",
       "      <td>-25.161422</td>\n",
       "      <td>4.742729</td>\n",
       "      <td>-20.344550</td>\n",
       "      <td>-50.248793</td>\n",
       "      <td>-89.324731</td>\n",
       "      <td>-104.002016</td>\n",
       "      <td>-160.103875</td>\n",
       "      <td>...</td>\n",
       "      <td>48.557507</td>\n",
       "      <td>-1.997502</td>\n",
       "      <td>-0.856194</td>\n",
       "      <td>-34.259923</td>\n",
       "      <td>-3.113819</td>\n",
       "      <td>13.398035</td>\n",
       "      <td>-94.899866</td>\n",
       "      <td>-77.051331</td>\n",
       "      <td>-16.014027</td>\n",
       "      <td>437.940266</td>\n",
       "    </tr>\n",
       "    <tr>\n",
       "      <th>4</th>\n",
       "      <td>5</td>\n",
       "      <td>5.906445</td>\n",
       "      <td>19.909180</td>\n",
       "      <td>24.705865</td>\n",
       "      <td>-51.875251</td>\n",
       "      <td>-24.857500</td>\n",
       "      <td>-25.879977</td>\n",
       "      <td>-37.787560</td>\n",
       "      <td>-99.587673</td>\n",
       "      <td>-47.929647</td>\n",
       "      <td>...</td>\n",
       "      <td>3.556973</td>\n",
       "      <td>-26.643253</td>\n",
       "      <td>-0.976567</td>\n",
       "      <td>-44.127974</td>\n",
       "      <td>-44.249542</td>\n",
       "      <td>-6.166813</td>\n",
       "      <td>-97.099111</td>\n",
       "      <td>-5.426910</td>\n",
       "      <td>-42.191157</td>\n",
       "      <td>755.825367</td>\n",
       "    </tr>\n",
       "  </tbody>\n",
       "</table>\n",
       "<p>5 rows × 27 columns</p>\n",
       "</div>"
      ],
      "text/plain": [
       "   ID  Feature_1  Feature_2  Feature_3   Feature_4  Feature_5  Feature_6  \\\n",
       "0   1 -10.429837  21.684251  93.056324  128.914740   1.657315 -34.602633   \n",
       "1   2  12.475081  11.652011 -47.621889  -21.892583 -25.844861 -46.951253   \n",
       "2   3   7.696188  24.729547  43.782383  -53.282523 -69.145794 -57.072335   \n",
       "3   4   6.505033  22.092605 -25.161422    4.742729 -20.344550 -50.248793   \n",
       "4   5   5.906445  19.909180  24.705865  -51.875251 -24.857500 -25.879977   \n",
       "\n",
       "    Feature_7   Feature_8   Feature_9  ...  Feature_17  Feature_18  \\\n",
       "0  -70.314374  -89.585318  -98.465642  ...  -99.322780   19.560135   \n",
       "1 -114.500805  -96.257473 -138.354981  ...  -89.763107   -8.250307   \n",
       "2 -114.149171 -105.408739  -71.892560  ...   -3.859655  -17.301240   \n",
       "3  -89.324731 -104.002016 -160.103875  ...   48.557507   -1.997502   \n",
       "4  -37.787560  -99.587673  -47.929647  ...    3.556973  -26.643253   \n",
       "\n",
       "   Feature_19  Feature_20  Feature_21  Feature_22  Feature_23  Feature_24  \\\n",
       "0   25.568291  -40.876179 -116.146068  -82.181299  -99.423518  -41.150654   \n",
       "1   -8.798353  -23.452091  -56.769063  -26.722372  -97.694304   13.816113   \n",
       "2   -1.622924  -39.351214  -73.973949  -33.844638 -100.874861  -38.895598   \n",
       "3   -0.856194  -34.259923   -3.113819   13.398035  -94.899866  -77.051331   \n",
       "4   -0.976567  -44.127974  -44.249542   -6.166813  -97.099111   -5.426910   \n",
       "\n",
       "   Feature_25       Target  \n",
       "0  113.117197  5235.690928  \n",
       "1    8.711894 -1221.442146  \n",
       "2   34.488334 -1102.758862  \n",
       "3  -16.014027   437.940266  \n",
       "4  -42.191157   755.825367  \n",
       "\n",
       "[5 rows x 27 columns]"
      ]
     },
     "execution_count": 3,
     "metadata": {},
     "output_type": "execute_result"
    },
    {
     "data": {
      "image/png": "[encoded data removed]",
      "text/plain": [
       "<Figure size 640x480 with 1 Axes>"
      ]
     },
     "metadata": {},
     "output_type": "display_data"
    }
   ],
   "source": [
    "data = pd.read_csv(\"linear_regression_train.csv\")\n",
    "plt.scatter(data.Feature_5, data.Target)\n",
    "data.head()"
   ]
  },
  {
   "cell_type": "markdown",
   "id": "ab08baa9",
   "metadata": {},
   "source": [
    "Extracting input and output data using pandas and normalisation"
   ]
  },
  {
   "cell_type": "code",
   "execution_count": 4,
   "id": "ad9066cd",
   "metadata": {},
   "outputs": [
    {
     "name": "stdout",
     "output_type": "stream",
     "text": [
      "<class 'pandas.core.series.Series'>\n",
      "<class 'pandas.core.frame.DataFrame'>\n",
      "   Feature_1  Feature_2  Feature_3  Feature_4  Feature_5  Feature_6  \\\n",
      "0  -1.698625   0.253141   1.138685   3.788759   2.119366   0.300747   \n",
      "1   0.672010  -1.498956  -2.098547   0.000035   0.324729  -0.443846   \n",
      "2   0.177399   0.784991   0.004812  -0.788573  -2.500846  -1.054124   \n",
      "3   0.054116   0.324458  -1.581696   0.669192   0.683648  -0.642680   \n",
      "4  -0.007837  -0.056869  -0.434169  -0.753218   0.389159   0.826703   \n",
      "\n",
      "   Feature_7  Feature_8  Feature_9  Feature_10  ...  Feature_16  Feature_17  \\\n",
      "0   0.553210   0.086296  -0.083339   -0.764211  ...    0.704123   -1.188415   \n",
      "1  -0.719836  -0.490946  -1.071877   -1.618611  ...    0.378333   -0.985731   \n",
      "2  -0.709705  -1.282670   0.575195    0.236001  ...    1.437571    0.835587   \n",
      "3   0.005506  -1.160967  -1.610858   -1.510584  ...    0.346372    1.946931   \n",
      "4   1.490332  -0.779059   1.169044   -0.002850  ...    0.417726    0.992834   \n",
      "\n",
      "   Feature_18  Feature_19  Feature_20  Feature_21  Feature_22  Feature_23  \\\n",
      "0    0.552879    1.818599   -0.512661   -0.779529   -2.122633   -0.222863   \n",
      "1   -0.275521   -0.741279    0.638822    1.022415   -0.101522    0.152267   \n",
      "2   -0.545125   -0.206801   -0.411883    0.500289   -0.361081   -0.537713   \n",
      "3   -0.089267   -0.149689   -0.075421    2.650717    1.360602    0.758483   \n",
      "4   -0.823399   -0.158656   -0.727558    1.402351    0.647593    0.281386   \n",
      "\n",
      "   Feature_24  Feature_25  \n",
      "0   -0.471964    2.272504  \n",
      "1    0.885826   -0.210873  \n",
      "2   -0.416260    0.402244  \n",
      "3   -1.358784   -0.799002  \n",
      "4    0.410485   -1.421649  \n",
      "\n",
      "[5 rows x 25 columns]\n"
     ]
    }
   ],
   "source": [
    "x= data.iloc[:,1:26]\n",
    "y = data.iloc[:,26]\n",
    "print(type(y))\n",
    "print(type(x))\n",
    "x = (x-x.mean())/x.std()\n",
    "print(x.head())"
   ]
  },
  {
   "cell_type": "markdown",
   "id": "67914022",
   "metadata": {},
   "source": [
    "1. Spliliting data into training and testing for cross validation }"
   ]
  },
  {
   "cell_type": "code",
   "execution_count": 6,
   "id": "31ebf2f2",
   "metadata": {},
   "outputs": [
    {
     "name": "stdout",
     "output_type": "stream",
     "text": [
      "(48000, 25)\n",
      "-7885.178865076816\n",
      "9527.062129284232\n",
      "(38400,)\n"
     ]
    }
   ],
   "source": [
    "x_train = x.to_numpy()\n",
    "print(x_train.shape)\n",
    "m = x_train.shape[0]\n",
    "n = int(0.2*m)\n",
    "x_test1 = x_train[:n,:]\n",
    "x_train = x_train[n:,:]\n",
    "y_train = y.to_numpy()\n",
    "\n",
    "y_test1 = y_train[:n]\n",
    "y_train = y_train[n:]\n",
    "print(np.min(y_train))\n",
    "print(np.max(y_train))\n",
    "print(y_train.shape)"
   ]
  },
  {
   "cell_type": "markdown",
   "id": "1350ee40",
   "metadata": {},
   "source": [
    "Defining parameters and cost function"
   ]
  },
  {
   "cell_type": "code",
   "execution_count": 7,
   "id": "24d63dc3",
   "metadata": {},
   "outputs": [
    {
     "name": "stdout",
     "output_type": "stream",
     "text": [
      "(25,)\n"
     ]
    }
   ],
   "source": [
    "w_in = np.zeros(x_train.shape[1])\n",
    "print(w_in.shape)\n",
    "\n",
    "b_in = 0\n",
    "def compute_cost(x,y,w,b,lambdaa):\n",
    "    m = x.shape[0]\n",
    "    f = np.dot(x,w) + b\n",
    "    cost = (1/(2*m)) * (np.sum(np.square(f-y)) + lambdaa*(np.sum(np.square(w))) )\n",
    "    return cost\n",
    "def prediction (x,w,b):\n",
    "    y_p = np.dot(x,w) + b\n",
    "    return y_p    "
   ]
  },
  {
   "cell_type": "markdown",
   "id": "a3d77784",
   "metadata": {},
   "source": [
    "Defining gradient descent and parameter update "
   ]
  },
  {
   "cell_type": "code",
   "execution_count": 8,
   "id": "2292e534",
   "metadata": {},
   "outputs": [],
   "source": [
    "def gradient_descent(x,y,w_in,b,alpha,num_iter,lambdaa):\n",
    "    m = x.shape[0]\n",
    "    jh = []\n",
    "    rmse_h = [] \n",
    "    w = np.copy(w_in)\n",
    "    wh = [] \n",
    "    c = 0\n",
    "    for i in range(num_iter):\n",
    "        f = np.dot(x,w) + b\n",
    "        d_w = (1/m)*np.sum(np.dot((f-y),x)) +(lambdaa/m)*np.sum(w)\n",
    "        db = (1/m)*np.sum(f-y)\n",
    "        w -= alpha*d_w\n",
    "        b -= alpha*db\n",
    "        if i <10000:\n",
    "            c =(compute_cost(x,y,w,b,lambdaa))\n",
    "            y_pred = prediction(x_train,w,b)\n",
    "            rmse = np.sqrt(np.mean(y_pred - y_train)**2)\n",
    "            rmse_h.append(rmse)\n",
    "            jh.append(c)\n",
    "\n",
    "        if (i%(num_iter/10)== 0):\n",
    "            print(f\"cost at {i+1}th iteration is :{c} and rmse is :{rmse}\") \n",
    "            wh.append(w)   \n",
    "        \n",
    "        \n",
    "    return w,b,jh,wh,rmse_h    "
   ]
  },
  {
   "cell_type": "markdown",
   "id": "bd7439dd",
   "metadata": {},
   "source": [
    "Hyper parameters and Running the model"
   ]
  },
  {
   "cell_type": "code",
   "execution_count": 9,
   "id": "05be541a",
   "metadata": {},
   "outputs": [
    {
     "name": "stdout",
     "output_type": "stream",
     "text": [
      "cost at 1th iteration is :2587733.4289541077 and rmse is :1238.2599077159175\n",
      "cost at 101th iteration is :1255007.7447218532 and rmse is :452.46067433408183\n",
      "cost at 201th iteration is :1166361.4055689487 and rmse is :165.6157888349279\n",
      "cost at 301th iteration is :1154484.5191486313 and rmse is :60.62093584549435\n",
      "cost at 401th iteration is :1152893.247220325 and rmse is :22.18929661619626\n",
      "cost at 501th iteration is :1152680.047711615 and rmse is :8.122027109190144\n",
      "cost at 601th iteration is :1152651.4831214244 and rmse is :2.9729344513909215\n",
      "cost at 701th iteration is :1152647.656021551 and rmse is :1.0881937641241912\n",
      "cost at 801th iteration is :1152647.1432645558 and rmse is :0.3983154313144985\n",
      "cost at 901th iteration is :1152647.074565085 and rmse is :0.14579681308063944\n",
      "0.05390557973467272\n"
     ]
    }
   ],
   "source": [
    "learning_rate = 0.01\n",
    "iterations = 1000\n",
    "regularisation_parameter =  100\n",
    "w_f,b_f,J_history,W_history,RMSE_H = gradient_descent(x_train,y_train,w_in,b_in,learning_rate,iterations,regularisation_parameter)\n",
    "\n",
    "\n",
    "print(RMSE_H[-1])"
   ]
  },
  {
   "cell_type": "markdown",
   "id": "9f25fde7",
   "metadata": {},
   "source": [
    "Plotting cost graph vs no. of iterations and RMSE "
   ]
  },
  {
   "cell_type": "code",
   "execution_count": 11,
   "id": "34e364b1",
   "metadata": {},
   "outputs": [
    {
     "data": {
      "image/png": "[encoded data removed]",
      "text/plain": [
       "<Figure size 640x480 with 1 Axes>"
      ]
     },
     "metadata": {},
     "output_type": "display_data"
    },
    {
     "data": {
      "image/png": "[encoded data removed]",
      "text/plain": [
       "<Figure size 640x480 with 1 Axes>"
      ]
     },
     "metadata": {},
     "output_type": "display_data"
    }
   ],
   "source": [
    "plt.plot(J_history)\n",
    "plt.xlabel(\"no. of iterations\")\n",
    "plt.ylabel(\"J\")\n",
    "plt.title(\"J vs no. of iterations\")\n",
    "plt.show()\n",
    "\n",
    "plt.plot(RMSE_H)\n",
    "plt.xlabel(\"no. of iterations\")\n",
    "plt.ylabel(\"rmse\")\n",
    "plt.title(\"rmse vs no. of iterations\")\n",
    "plt.show()\n",
    "\n",
    "\n"
   ]
  },
  {
   "cell_type": "markdown",
   "id": "c947f463",
   "metadata": {},
   "source": [
    "Loading testing data and making predictions"
   ]
  },
  {
   "cell_type": "code",
   "execution_count": 12,
   "id": "204fdcfc",
   "metadata": {},
   "outputs": [
    {
     "name": "stdout",
     "output_type": "stream",
     "text": [
      "(12000, 25)\n",
      "[ 2306.60247634  2679.31037851   440.18761643 ...   999.11555235\n",
      " -2249.21148366   454.54066952]\n"
     ]
    }
   ],
   "source": [
    "test_data = pd.read_csv(\"linear_regression_test.csv\")\n",
    "\n",
    "\n",
    "x_t = test_data.iloc[:,1:26]\n",
    "x_t = (x_t - x_t.mean())/x_t.std()\n",
    "\n",
    "x_ttest = x_t.values\n",
    "print(x_ttest.shape)\n",
    "y = prediction(x_ttest,w_f,b_f)\n",
    "print(y)"
   ]
  },
  {
   "cell_type": "code",
   "execution_count": null,
   "id": "275dbea8",
   "metadata": {},
   "outputs": [],
   "source": [
    "\n",
    "\n"
   ]
  },
  {
   "cell_type": "code",
   "execution_count": null,
   "id": "230f7cf5",
   "metadata": {},
   "outputs": [],
   "source": []
  }
 ],
 "metadata": {
  "kernelspec": {
   "display_name": "Python 3",
   "language": "python",
   "name": "python3"
  },
  "language_info": {
   "codemirror_mode": {
    "name": "ipython",
    "version": 3
   },
   "file_extension": ".py",
   "mimetype": "text/x-python",
   "name": "python",
   "nbconvert_exporter": "python",
   "pygments_lexer": "ipython3",
   "version": "3.12.3"
  }
 },
 "nbformat": 4,
 "nbformat_minor": 5
}
